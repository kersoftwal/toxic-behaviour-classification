{
 "cells": [
  {
   "cell_type": "markdown",
   "id": "3ced07aa",
   "metadata": {},
   "source": [
    "# Toxic Comment Classification Challenge"
   ]
  },
  {
   "cell_type": "markdown",
   "id": "5e88ebbf",
   "metadata": {},
   "source": [
    "This challenge deals with the detection of toxic behaviour in online conversations, in order to help online discussions to become more productive and fruitful. Data was extracted from comments on Wikipedia’s talk page edits and it's analyzed hereby. "
   ]
  },
  {
   "cell_type": "markdown",
   "id": "a1385bb6",
   "metadata": {},
   "source": [
    "## Data Analysis"
   ]
  },
  {
   "cell_type": "markdown",
   "id": "38947795",
   "metadata": {},
   "source": [
    "First of all let's take a look at the raw data in order to get a taste of the columns to be expected."
   ]
  },
  {
   "cell_type": "code",
   "execution_count": 35,
   "id": "f088f226",
   "metadata": {},
   "outputs": [
    {
     "data": {
      "text/html": [
       "<div>\n",
       "<style scoped>\n",
       "    .dataframe tbody tr th:only-of-type {\n",
       "        vertical-align: middle;\n",
       "    }\n",
       "\n",
       "    .dataframe tbody tr th {\n",
       "        vertical-align: top;\n",
       "    }\n",
       "\n",
       "    .dataframe thead th {\n",
       "        text-align: right;\n",
       "    }\n",
       "</style>\n",
       "<table border=\"1\" class=\"dataframe\">\n",
       "  <thead>\n",
       "    <tr style=\"text-align: right;\">\n",
       "      <th></th>\n",
       "      <th>comment_text</th>\n",
       "      <th>toxic</th>\n",
       "      <th>severe_toxic</th>\n",
       "      <th>obscene</th>\n",
       "      <th>threat</th>\n",
       "      <th>insult</th>\n",
       "      <th>identity_hate</th>\n",
       "    </tr>\n",
       "    <tr>\n",
       "      <th>id</th>\n",
       "      <th></th>\n",
       "      <th></th>\n",
       "      <th></th>\n",
       "      <th></th>\n",
       "      <th></th>\n",
       "      <th></th>\n",
       "      <th></th>\n",
       "    </tr>\n",
       "  </thead>\n",
       "  <tbody>\n",
       "    <tr>\n",
       "      <th>0000997932d777bf</th>\n",
       "      <td>Explanation\\nWhy the edits made under my usern...</td>\n",
       "      <td>0</td>\n",
       "      <td>0</td>\n",
       "      <td>0</td>\n",
       "      <td>0</td>\n",
       "      <td>0</td>\n",
       "      <td>0</td>\n",
       "    </tr>\n",
       "    <tr>\n",
       "      <th>000103f0d9cfb60f</th>\n",
       "      <td>D'aww! He matches this background colour I'm s...</td>\n",
       "      <td>0</td>\n",
       "      <td>0</td>\n",
       "      <td>0</td>\n",
       "      <td>0</td>\n",
       "      <td>0</td>\n",
       "      <td>0</td>\n",
       "    </tr>\n",
       "    <tr>\n",
       "      <th>000113f07ec002fd</th>\n",
       "      <td>Hey man, I'm really not trying to edit war. It...</td>\n",
       "      <td>0</td>\n",
       "      <td>0</td>\n",
       "      <td>0</td>\n",
       "      <td>0</td>\n",
       "      <td>0</td>\n",
       "      <td>0</td>\n",
       "    </tr>\n",
       "    <tr>\n",
       "      <th>0001b41b1c6bb37e</th>\n",
       "      <td>\"\\nMore\\nI can't make any real suggestions on ...</td>\n",
       "      <td>0</td>\n",
       "      <td>0</td>\n",
       "      <td>0</td>\n",
       "      <td>0</td>\n",
       "      <td>0</td>\n",
       "      <td>0</td>\n",
       "    </tr>\n",
       "    <tr>\n",
       "      <th>0001d958c54c6e35</th>\n",
       "      <td>You, sir, are my hero. Any chance you remember...</td>\n",
       "      <td>0</td>\n",
       "      <td>0</td>\n",
       "      <td>0</td>\n",
       "      <td>0</td>\n",
       "      <td>0</td>\n",
       "      <td>0</td>\n",
       "    </tr>\n",
       "  </tbody>\n",
       "</table>\n",
       "</div>"
      ],
      "text/plain": [
       "                                                       comment_text  toxic  \\\n",
       "id                                                                           \n",
       "0000997932d777bf  Explanation\\nWhy the edits made under my usern...      0   \n",
       "000103f0d9cfb60f  D'aww! He matches this background colour I'm s...      0   \n",
       "000113f07ec002fd  Hey man, I'm really not trying to edit war. It...      0   \n",
       "0001b41b1c6bb37e  \"\\nMore\\nI can't make any real suggestions on ...      0   \n",
       "0001d958c54c6e35  You, sir, are my hero. Any chance you remember...      0   \n",
       "\n",
       "                  severe_toxic  obscene  threat  insult  identity_hate  \n",
       "id                                                                      \n",
       "0000997932d777bf             0        0       0       0              0  \n",
       "000103f0d9cfb60f             0        0       0       0              0  \n",
       "000113f07ec002fd             0        0       0       0              0  \n",
       "0001b41b1c6bb37e             0        0       0       0              0  \n",
       "0001d958c54c6e35             0        0       0       0              0  "
      ]
     },
     "execution_count": 35,
     "metadata": {},
     "output_type": "execute_result"
    }
   ],
   "source": [
    "import matplotlib.pyplot as plt\n",
    "import pandas as pd\n",
    "import seaborn as sns\n",
    "\n",
    "train_df = pd.read_csv('data/train.csv', index_col=0)\n",
    "train_df.head()"
   ]
  },
  {
   "cell_type": "markdown",
   "id": "fe0ce310",
   "metadata": {},
   "source": [
    "As we can see, we're going to deal with textual data and try to label each online conversation to the consequent classes 'toxic', 'severe_toxic', 'obscene', 'threat', 'insult', 'identity_hate'. Let's see the amount of data we're dealing with by printing the size of the dataset."
   ]
  },
  {
   "cell_type": "code",
   "execution_count": 36,
   "id": "486a1e86",
   "metadata": {},
   "outputs": [
    {
     "data": {
      "text/plain": [
       "(159571, 7)"
      ]
     },
     "execution_count": 36,
     "metadata": {},
     "output_type": "execute_result"
    }
   ],
   "source": [
    "train_df.shape"
   ]
  },
  {
   "cell_type": "markdown",
   "id": "1e218976",
   "metadata": {},
   "source": [
    "Let's analyze the labels, in order to understand what kind of classification problem we have. "
   ]
  },
  {
   "cell_type": "code",
   "execution_count": 37,
   "id": "edc5d588",
   "metadata": {},
   "outputs": [
    {
     "name": "stdout",
     "output_type": "stream",
     "text": [
      "0    143346\n",
      "1      6360\n",
      "3      4209\n",
      "2      3480\n",
      "4      1760\n",
      "5       385\n",
      "6        31\n",
      "dtype: int64\n"
     ]
    }
   ],
   "source": [
    "labels_df = train_df[['toxic', 'severe_toxic', 'obscene', 'threat', 'insult', 'identity_hate']]\n",
    "labels_row_valuecounts = labels_df.sum(axis=1).value_counts(sort=True)\n",
    "print(labels_row_valuecounts)"
   ]
  },
  {
   "cell_type": "code",
   "execution_count": 38,
   "id": "e7ff32c5",
   "metadata": {},
   "outputs": [
    {
     "data": {
      "image/png": "[encoded data removed]",
      "text/plain": [
       "<Figure size 216x288 with 1 Axes>"
      ]
     },
     "metadata": {
      "needs_background": "light"
     },
     "output_type": "display_data"
    }
   ],
   "source": [
    "plt.figure(figsize=(3, 4))\n",
    "plt.suptitle('AMOUNT OF UNLABELED AND LABELED SAMPLES')\n",
    "\n",
    "plt.bar(['# unlabeled', '# labeled'], [labels_row_valuecounts[0], labels_row_valuecounts[1:].sum()])\n",
    "\n",
    "plt.ylabel('# rows')\n",
    "plt.show()"
   ]
  },
  {
   "cell_type": "code",
   "execution_count": 39,
   "id": "1405e1ec",
   "metadata": {},
   "outputs": [
    {
     "data": {
      "image/png": "[encoded data removed]",
      "text/plain": [
       "<Figure size 432x288 with 1 Axes>"
      ]
     },
     "metadata": {
      "needs_background": "light"
     },
     "output_type": "display_data"
    }
   ],
   "source": [
    "plt.figure(figsize=(6, 4))\n",
    "plt.suptitle('AMOUNT OF LABELS PER SAMPLE')\n",
    "\n",
    "plt.bar(labels_row_valuecounts.index[1:], labels_row_valuecounts[1:])\n",
    "\n",
    "plt.xlabel('# labels')\n",
    "plt.ylabel('# rows')\n",
    "plt.show()"
   ]
  },
  {
   "cell_type": "code",
   "execution_count": 40,
   "id": "9338748c",
   "metadata": {},
   "outputs": [
    {
     "data": {
      "text/plain": [
       "toxic            15294\n",
       "obscene           8449\n",
       "insult            7877\n",
       "severe_toxic      1595\n",
       "identity_hate     1405\n",
       "threat             478\n",
       "dtype: int64"
      ]
     },
     "execution_count": 40,
     "metadata": {},
     "output_type": "execute_result"
    }
   ],
   "source": [
    "labels_column_valuecounts = labels_df.sum(axis=0).sort_values(ascending=False)\n",
    "labels_column_valuecounts"
   ]
  },
  {
   "cell_type": "code",
   "execution_count": 41,
   "id": "60997544",
   "metadata": {},
   "outputs": [
    {
     "data": {
      "image/png": "[encoded data removed]",
      "text/plain": [
       "<Figure size 576x288 with 1 Axes>"
      ]
     },
     "metadata": {
      "needs_background": "light"
     },
     "output_type": "display_data"
    }
   ],
   "source": [
    "plt.figure(figsize=(8, 4))\n",
    "plt.suptitle('AMOUNT OF SAMPLES PER LABEL')\n",
    "\n",
    "plt.bar(labels_column_valuecounts.index, labels_column_valuecounts)\n",
    "\n",
    "plt.ylabel('# rows')\n",
    "plt.show()"
   ]
  },
  {
   "cell_type": "markdown",
   "id": "84746092",
   "metadata": {},
   "source": [
    "It's now clear that we're dealing with a multi-label classification task with ~140k non-labeled samples and the remaining ~20k samples to be labeled with one or more classes. One of the problems affecting the dataset is the high imbalance: \n",
    "* between labeled and unlabeled examples (with a prevalence of unlabeled examples - ratio 1:7)\n",
    "* among the different labeled examples (with a prevalence of toxic, obscene and insult labeled examples - ratio 1:2:2:8:8:16)"
   ]
  },
  {
   "cell_type": "code",
   "execution_count": 42,
   "id": "1b17826f",
   "metadata": {},
   "outputs": [
    {
     "name": "stdout",
     "output_type": "stream",
     "text": [
      "['abbo', 'abo', 'abortion', 'abuse', 'addict', 'addicts', 'adult', 'africa', 'african', 'alla']\n",
      "1383\n"
     ]
    }
   ],
   "source": [
    "import requests\n",
    "from bs4 import BeautifulSoup\n",
    "\n",
    "html_doc = requests.get('https://www.cs.cmu.edu/~biglou/resources/bad-words.txt')\n",
    "soup = BeautifulSoup(html_doc.content, 'html.parser')\n",
    "\n",
    "badwords = soup.get_text().split('\\n')[1:-1]\n",
    "print(badwords[:10])\n",
    "print(len(badwords))"
   ]
  },
  {
   "cell_type": "code",
   "execution_count": 43,
   "id": "5edecca0",
   "metadata": {
    "scrolled": true
   },
   "outputs": [
    {
     "data": {
      "image/png": "[encoded data removed]",
      "text/plain": [
       "<Figure size 360x288 with 2 Axes>"
      ]
     },
     "metadata": {
      "needs_background": "light"
     },
     "output_type": "display_data"
    }
   ],
   "source": [
    "import matplotlib.pyplot as plt\n",
    "\n",
    "text = train_df['comment_text']\n",
    "\n",
    "train_df[['neutral']] = labels_df.sum(axis=1).map(lambda x: 1 if x==0 else 0)\n",
    "train_df[['length']] = text.apply(len)\n",
    "train_df[['!?']] = text.apply(lambda x: len(x.split('!'))-1 + len(x.split('?'))-1)\n",
    "train_df[['upper_words']] = text.apply(lambda x: sum(1 for word in x.split(' ') if word.isupper()))\n",
    "train_df[['upper_letters']] = text.apply(lambda x: sum(1 for letter in x if letter.isupper()))\n",
    "train_df[['badwords']] = text.apply(lambda x: sum(1 for letter in x.split(' ') if letter in badwords))\n",
    "\n",
    "plt.figure(figsize=(5,4))\n",
    "cor = train_df.corr(method='pearson')\n",
    "sns.heatmap(cor)\n",
    "plt.show()\n"
   ]
  },
  {
   "cell_type": "markdown",
   "id": "1a1fb001",
   "metadata": {},
   "source": [
    "From this correlation matrix we can see that badwords could be a good indicator for toxicity vs non-toxicity. We might want to generate a bag-of-words representation and observe if there are clusters of badwords that are used for specific toxic behaviours. "
   ]
  },
  {
   "cell_type": "markdown",
   "id": "cc20cde3",
   "metadata": {},
   "source": [
    "Let's work out on preprocessing the text in order to try extracting meaningful features from the words. Cleaning the text will involve several steps aiming at increasing the words shared between conversations regardless of their inflection/form. For this reason we will apply several steps consequently:\n",
    "* lowering of the words (we've seen that the uppercasing is not correlated with any of the interested classes, so we're not losing info with this prep step)\n",
    "* abbreviations removal (sometimes abbreviations are used in textual conversations, we will try to address the most common abbreviations)\n",
    "* punctuation removal (not really needed as soon as we're considering words as features)\n",
    "* number removal (same as punctuation removal)\n",
    "* tokenization \n",
    "* stopwords removal (no semantic usefulness for the toxicity detection task)\n",
    "* lemmatization (to remove inflection and increase the amount of shared words between conversations)"
   ]
  },
  {
   "cell_type": "code",
   "execution_count": 44,
   "id": "a7dc2f8f",
   "metadata": {},
   "outputs": [],
   "source": [
    "import nltk\n",
    "from nltk.stem import WordNetLemmatizer\n",
    "lemmatizer = WordNetLemmatizer()\n",
    "from nltk.corpus import stopwords\n",
    "stop_words = set(stopwords.words('english'))"
   ]
  },
  {
   "cell_type": "code",
   "execution_count": 45,
   "id": "b1141cee",
   "metadata": {},
   "outputs": [
    {
     "name": "stdout",
     "output_type": "stream",
     "text": [
      "\n",
      "# sents:\t 159571\n"
     ]
    }
   ],
   "source": [
    "sents = train_df['comment_text'].values\n",
    "print('\\n# sents:\\t', sents.shape[0])"
   ]
  },
  {
   "cell_type": "code",
   "execution_count": 46,
   "id": "543d870d",
   "metadata": {},
   "outputs": [
    {
     "name": "stdout",
     "output_type": "stream",
     "text": [
      " > PREP > Lowering sentences...\n"
     ]
    },
    {
     "data": {
      "text/plain": [
       "id\n",
       "0000997932d777bf    explanation\\nwhy the edits made under my usern...\n",
       "000103f0d9cfb60f    d'aww! he matches this background colour i'm s...\n",
       "000113f07ec002fd    hey man, i'm really not trying to edit war. it...\n",
       "0001b41b1c6bb37e    \"\\nmore\\ni can't make any real suggestions on ...\n",
       "0001d958c54c6e35    you, sir, are my hero. any chance you remember...\n",
       "Name: comment_text, dtype: object"
      ]
     },
     "execution_count": 46,
     "metadata": {},
     "output_type": "execute_result"
    }
   ],
   "source": [
    "def prep_lower_sent(df):\n",
    "    print(' > PREP > Lowering sentences...')\n",
    "    return df.map(str.lower)\n",
    "\n",
    "lower_sents = prep_lower_sent(train_df['comment_text'])\n",
    "lower_sents.head()"
   ]
  },
  {
   "cell_type": "code",
   "execution_count": 47,
   "id": "d09fb6d0",
   "metadata": {},
   "outputs": [
    {
     "name": "stdout",
     "output_type": "stream",
     "text": [
      " > PREP > Removing abbreviations...\n"
     ]
    },
    {
     "data": {
      "text/plain": [
       "id\n",
       "0000997932d777bf    explanation\\nwhy the edits made under my usern...\n",
       "000103f0d9cfb60f    d'aww! he matches this background colour i am ...\n",
       "000113f07ec002fd    hey man, i am really not trying to edit war. i...\n",
       "0001b41b1c6bb37e    \"\\nmore\\ni can not make any real suggestions o...\n",
       "0001d958c54c6e35    you, sir, are my hero. any chance you remember...\n",
       "Name: comment_text, dtype: object"
      ]
     },
     "execution_count": 47,
     "metadata": {},
     "output_type": "execute_result"
    }
   ],
   "source": [
    "def prep_abbreviations_removal(df):\n",
    "    print(' > PREP > Removing abbreviations...')\n",
    "    abbreviations = {\n",
    "        'can\\'t': 'can not',\n",
    "        'n\\'t': ' not',\n",
    "        '\\'m': ' am',\n",
    "        '\\'s': ' is',\n",
    "        '\\'re': ' are',\n",
    "        '\\'d': '  would',\n",
    "        '\\'ve': ' have',\n",
    "        '\\'ll': ' will',\n",
    "        ' y\\'all ': ' you all ',\n",
    "        '\\'cause': ' because',\n",
    "        '\\'bout': ' about',\n",
    "        '\\'em': ' them',\n",
    "        'g\\'day ': ' good day',\n",
    "        'c\\'mon': ' come on',\n",
    "        'wp': ' well played',\n",
    "        ' u ': ' you '\n",
    "    }\n",
    "    sents_wo_abbrv = df.copy()\n",
    "    for abbr in abbreviations:\n",
    "        abbr_conv = abbreviations[abbr]\n",
    "        sents_wo_abbrv = sents_wo_abbrv.str.replace(abbr, abbr_conv)\n",
    "    return sents_wo_abbrv\n",
    "\n",
    "sents_wo_abbrv = prep_abbreviations_removal(lower_sents)\n",
    "sents_wo_abbrv.head()"
   ]
  },
  {
   "cell_type": "code",
   "execution_count": 48,
   "id": "8b7d8ec2",
   "metadata": {},
   "outputs": [
    {
     "name": "stdout",
     "output_type": "stream",
     "text": [
      " > PREP > Removing punctuation...\n"
     ]
    },
    {
     "data": {
      "text/plain": [
       "id\n",
       "0000997932d777bf    explanation why the edits made under my userna...\n",
       "000103f0d9cfb60f    d'aww! he matches this background colour i am ...\n",
       "000113f07ec002fd    hey man  i am really not trying to edit war  i...\n",
       "0001b41b1c6bb37e      more i can not make any real suggestions on ...\n",
       "0001d958c54c6e35    you  sir  are my hero  any chance you remember...\n",
       "Name: comment_text, dtype: object"
      ]
     },
     "execution_count": 48,
     "metadata": {},
     "output_type": "execute_result"
    }
   ],
   "source": [
    "def prep_punctuation_removal(df):\n",
    "    print(' > PREP > Removing punctuation...')\n",
    "    punctuations = '.,\"`)(:-;][|{}#&%•*/—=\\n'\n",
    "    sents_wo_punct = df.copy()\n",
    "    for punct in punctuations:\n",
    "        sents_wo_punct = sents_wo_punct.str.replace(punct, ' ')\n",
    "    return sents_wo_punct\n",
    "\n",
    "sents_wo_punct = prep_punctuation_removal(sents_wo_abbrv)\n",
    "sents_wo_punct.head()\n"
   ]
  },
  {
   "cell_type": "markdown",
   "id": "7ff15947",
   "metadata": {},
   "source": [
    "These converted abbreviations were extracted by using a dictionary listing frequency for each word. Once it was ordered by frequency, the most common abbreviations were extracted and adjusted."
   ]
  },
  {
   "cell_type": "code",
   "execution_count": 49,
   "id": "fbd7e631",
   "metadata": {},
   "outputs": [
    {
     "name": "stdout",
     "output_type": "stream",
     "text": [
      " > PREP > Removing numbers...\n"
     ]
    },
    {
     "data": {
      "text/plain": [
       "id\n",
       "0000997932d777bf    explanation why the edits made under my userna...\n",
       "000103f0d9cfb60f    d'aww! he matches this background colour i am ...\n",
       "000113f07ec002fd    hey man  i am really not trying to edit war  i...\n",
       "0001b41b1c6bb37e      more i can not make any real suggestions on ...\n",
       "0001d958c54c6e35    you  sir  are my hero  any chance you remember...\n",
       "Name: comment_text, dtype: object"
      ]
     },
     "execution_count": 49,
     "metadata": {},
     "output_type": "execute_result"
    }
   ],
   "source": [
    "def prep_numbers_removal(df):\n",
    "    print(' > PREP > Removing numbers...')\n",
    "    stop_words = set(stopwords.words('english'))\n",
    "    sents_wo_numb = df.copy()\n",
    "    for numb in list(range(10)):\n",
    "        sents_wo_numb = sents_wo_numb.str.replace(str(numb), ' ')\n",
    "    return sents_wo_numb\n",
    "\n",
    "sents_wo_numb = prep_numbers_removal(sents_wo_punct)\n",
    "sents_wo_numb.head()\n"
   ]
  },
  {
   "cell_type": "code",
   "execution_count": 50,
   "id": "75bab920",
   "metadata": {},
   "outputs": [
    {
     "name": "stdout",
     "output_type": "stream",
     "text": [
      " > PREP > Removing stopwords...\n"
     ]
    },
    {
     "data": {
      "text/plain": [
       "id\n",
       "0000997932d777bf    explanation edits made username hardcore metal...\n",
       "000103f0d9cfb60f    d'aww! matches background colour seemingly stu...\n",
       "000113f07ec002fd    hey man  really trying edit war  guy constantl...\n",
       "0001b41b1c6bb37e      make real suggestions improvement   wondered...\n",
       "0001d958c54c6e35             you  sir  hero  chance remember page on?\n",
       "Name: comment_text, dtype: object"
      ]
     },
     "execution_count": 50,
     "metadata": {},
     "output_type": "execute_result"
    }
   ],
   "source": [
    "from nltk.corpus import stopwords\n",
    "\n",
    "def prep_stopwords_removal(df):\n",
    "    print(' > PREP > Removing stopwords...')\n",
    "    sents_wo_stopwords = df.copy()\n",
    "    for stopword in stop_words:\n",
    "        sents_wo_stopwords = sents_wo_stopwords.str.replace(' '+stopword+' ', ' ')\n",
    "    return sents_wo_stopwords\n",
    "\n",
    "sents_wo_stopwords = prep_stopwords_removal(sents_wo_numb)\n",
    "sents_wo_stopwords.head()"
   ]
  },
  {
   "cell_type": "code",
   "execution_count": 51,
   "id": "11b7fb80",
   "metadata": {},
   "outputs": [
    {
     "name": "stdout",
     "output_type": "stream",
     "text": [
      " > PREP > Lemmatizing...\n"
     ]
    },
    {
     "data": {
      "text/plain": [
       "id\n",
       "0000997932d777bf    explanation edits made username hardcore metal...\n",
       "000103f0d9cfb60f    d'aww! match background colour seemingly stuck...\n",
       "000113f07ec002fd    hey man really trying edit war guy constantly ...\n",
       "0001b41b1c6bb37e    make real suggestion improvement wondered sect...\n",
       "0001d958c54c6e35                you sir hero chance remember page on?\n",
       "Name: comment_text, dtype: object"
      ]
     },
     "execution_count": 51,
     "metadata": {},
     "output_type": "execute_result"
    }
   ],
   "source": [
    "from nltk.stem import WordNetLemmatizer\n",
    "    \n",
    "def prep_lemmatization(df):\n",
    "    print(' > PREP > Lemmatizing...')\n",
    "    lemmatizer = WordNetLemmatizer()\n",
    "    return df.map(lambda sent: ' '.join([lemmatizer.lemmatize(word) for word in sent.split()]))\n",
    "\n",
    "sents_lemmatized = prep_lemmatization(sents_wo_stopwords)\n",
    "sents_lemmatized.head()"
   ]
  },
  {
   "cell_type": "code",
   "execution_count": 52,
   "id": "065e6c9f",
   "metadata": {},
   "outputs": [
    {
     "name": "stdout",
     "output_type": "stream",
     "text": [
      " > PREP > Removing spaces...\n"
     ]
    },
    {
     "data": {
      "text/html": [
       "<div>\n",
       "<style scoped>\n",
       "    .dataframe tbody tr th:only-of-type {\n",
       "        vertical-align: middle;\n",
       "    }\n",
       "\n",
       "    .dataframe tbody tr th {\n",
       "        vertical-align: top;\n",
       "    }\n",
       "\n",
       "    .dataframe thead th {\n",
       "        text-align: right;\n",
       "    }\n",
       "</style>\n",
       "<table border=\"1\" class=\"dataframe\">\n",
       "  <thead>\n",
       "    <tr style=\"text-align: right;\">\n",
       "      <th></th>\n",
       "      <th>comment_text</th>\n",
       "      <th>toxic</th>\n",
       "      <th>severe_toxic</th>\n",
       "      <th>obscene</th>\n",
       "      <th>threat</th>\n",
       "      <th>insult</th>\n",
       "      <th>identity_hate</th>\n",
       "      <th>neutral</th>\n",
       "    </tr>\n",
       "    <tr>\n",
       "      <th>id</th>\n",
       "      <th></th>\n",
       "      <th></th>\n",
       "      <th></th>\n",
       "      <th></th>\n",
       "      <th></th>\n",
       "      <th></th>\n",
       "      <th></th>\n",
       "      <th></th>\n",
       "    </tr>\n",
       "  </thead>\n",
       "  <tbody>\n",
       "    <tr>\n",
       "      <th>0000997932d777bf</th>\n",
       "      <td>explanation edits made username hardcore metal...</td>\n",
       "      <td>0</td>\n",
       "      <td>0</td>\n",
       "      <td>0</td>\n",
       "      <td>0</td>\n",
       "      <td>0</td>\n",
       "      <td>0</td>\n",
       "      <td>1</td>\n",
       "    </tr>\n",
       "    <tr>\n",
       "      <th>000103f0d9cfb60f</th>\n",
       "      <td>d'aww! match background colour seemingly stuck...</td>\n",
       "      <td>0</td>\n",
       "      <td>0</td>\n",
       "      <td>0</td>\n",
       "      <td>0</td>\n",
       "      <td>0</td>\n",
       "      <td>0</td>\n",
       "      <td>1</td>\n",
       "    </tr>\n",
       "    <tr>\n",
       "      <th>000113f07ec002fd</th>\n",
       "      <td>hey man really trying edit war guy constantly ...</td>\n",
       "      <td>0</td>\n",
       "      <td>0</td>\n",
       "      <td>0</td>\n",
       "      <td>0</td>\n",
       "      <td>0</td>\n",
       "      <td>0</td>\n",
       "      <td>1</td>\n",
       "    </tr>\n",
       "    <tr>\n",
       "      <th>0001b41b1c6bb37e</th>\n",
       "      <td>make real suggestion improvement wondered sect...</td>\n",
       "      <td>0</td>\n",
       "      <td>0</td>\n",
       "      <td>0</td>\n",
       "      <td>0</td>\n",
       "      <td>0</td>\n",
       "      <td>0</td>\n",
       "      <td>1</td>\n",
       "    </tr>\n",
       "    <tr>\n",
       "      <th>0001d958c54c6e35</th>\n",
       "      <td>you sir hero chance remember page on?</td>\n",
       "      <td>0</td>\n",
       "      <td>0</td>\n",
       "      <td>0</td>\n",
       "      <td>0</td>\n",
       "      <td>0</td>\n",
       "      <td>0</td>\n",
       "      <td>1</td>\n",
       "    </tr>\n",
       "  </tbody>\n",
       "</table>\n",
       "</div>"
      ],
      "text/plain": [
       "                                                       comment_text  toxic  \\\n",
       "id                                                                           \n",
       "0000997932d777bf  explanation edits made username hardcore metal...      0   \n",
       "000103f0d9cfb60f  d'aww! match background colour seemingly stuck...      0   \n",
       "000113f07ec002fd  hey man really trying edit war guy constantly ...      0   \n",
       "0001b41b1c6bb37e  make real suggestion improvement wondered sect...      0   \n",
       "0001d958c54c6e35              you sir hero chance remember page on?      0   \n",
       "\n",
       "                  severe_toxic  obscene  threat  insult  identity_hate  \\\n",
       "id                                                                       \n",
       "0000997932d777bf             0        0       0       0              0   \n",
       "000103f0d9cfb60f             0        0       0       0              0   \n",
       "000113f07ec002fd             0        0       0       0              0   \n",
       "0001b41b1c6bb37e             0        0       0       0              0   \n",
       "0001d958c54c6e35             0        0       0       0              0   \n",
       "\n",
       "                  neutral  \n",
       "id                         \n",
       "0000997932d777bf        1  \n",
       "000103f0d9cfb60f        1  \n",
       "000113f07ec002fd        1  \n",
       "0001b41b1c6bb37e        1  \n",
       "0001d958c54c6e35        1  "
      ]
     },
     "execution_count": 52,
     "metadata": {},
     "output_type": "execute_result"
    }
   ],
   "source": [
    "def prep_remove_spaces(df):\n",
    "    print(' > PREP > Removing spaces...')\n",
    "    return df.str.replace('\\n', ' ').map(str.strip)\n",
    "\n",
    "train_df = train_df.iloc[:,:8]\n",
    "train_df['comment_text'] = prep_remove_spaces(sents_lemmatized)\n",
    "train_df.head()\n",
    "\n"
   ]
  },
  {
   "cell_type": "markdown",
   "id": "b2918043",
   "metadata": {},
   "source": [
    "Training set is now cleaned and ready for feature extraction. Let's work out the same processing onto the test set."
   ]
  },
  {
   "cell_type": "code",
   "execution_count": 53,
   "id": "f2201a7d",
   "metadata": {},
   "outputs": [
    {
     "data": {
      "text/html": [
       "<div>\n",
       "<style scoped>\n",
       "    .dataframe tbody tr th:only-of-type {\n",
       "        vertical-align: middle;\n",
       "    }\n",
       "\n",
       "    .dataframe tbody tr th {\n",
       "        vertical-align: top;\n",
       "    }\n",
       "\n",
       "    .dataframe thead th {\n",
       "        text-align: right;\n",
       "    }\n",
       "</style>\n",
       "<table border=\"1\" class=\"dataframe\">\n",
       "  <thead>\n",
       "    <tr style=\"text-align: right;\">\n",
       "      <th></th>\n",
       "      <th>comment_text</th>\n",
       "    </tr>\n",
       "    <tr>\n",
       "      <th>id</th>\n",
       "      <th></th>\n",
       "    </tr>\n",
       "  </thead>\n",
       "  <tbody>\n",
       "    <tr>\n",
       "      <th>00001cee341fdb12</th>\n",
       "      <td>Yo bitch Ja Rule is more succesful then you'll...</td>\n",
       "    </tr>\n",
       "    <tr>\n",
       "      <th>0000247867823ef7</th>\n",
       "      <td>== From RfC == \\n\\n The title is fine as it is...</td>\n",
       "    </tr>\n",
       "    <tr>\n",
       "      <th>00013b17ad220c46</th>\n",
       "      <td>\" \\n\\n == Sources == \\n\\n * Zawe Ashton on Lap...</td>\n",
       "    </tr>\n",
       "    <tr>\n",
       "      <th>00017563c3f7919a</th>\n",
       "      <td>:If you have a look back at the source, the in...</td>\n",
       "    </tr>\n",
       "    <tr>\n",
       "      <th>00017695ad8997eb</th>\n",
       "      <td>I don't anonymously edit articles at all.</td>\n",
       "    </tr>\n",
       "  </tbody>\n",
       "</table>\n",
       "</div>"
      ],
      "text/plain": [
       "                                                       comment_text\n",
       "id                                                                 \n",
       "00001cee341fdb12  Yo bitch Ja Rule is more succesful then you'll...\n",
       "0000247867823ef7  == From RfC == \\n\\n The title is fine as it is...\n",
       "00013b17ad220c46  \" \\n\\n == Sources == \\n\\n * Zawe Ashton on Lap...\n",
       "00017563c3f7919a  :If you have a look back at the source, the in...\n",
       "00017695ad8997eb          I don't anonymously edit articles at all."
      ]
     },
     "execution_count": 53,
     "metadata": {},
     "output_type": "execute_result"
    }
   ],
   "source": [
    "test_df = pd.read_csv('data/test.csv', index_col=0)\n",
    "test_df.head()"
   ]
  },
  {
   "cell_type": "code",
   "execution_count": 54,
   "id": "de282928",
   "metadata": {},
   "outputs": [
    {
     "name": "stdout",
     "output_type": "stream",
     "text": [
      " > PREP > Lowering sentences...\n",
      " > PREP > Removing abbreviations...\n",
      " > PREP > Removing punctuation...\n",
      " > PREP > Removing numbers...\n",
      " > PREP > Removing stopwords...\n",
      " > PREP > Lemmatizing...\n",
      " > PREP > Removing spaces...\n"
     ]
    },
    {
     "data": {
      "text/html": [
       "<div>\n",
       "<style scoped>\n",
       "    .dataframe tbody tr th:only-of-type {\n",
       "        vertical-align: middle;\n",
       "    }\n",
       "\n",
       "    .dataframe tbody tr th {\n",
       "        vertical-align: top;\n",
       "    }\n",
       "\n",
       "    .dataframe thead th {\n",
       "        text-align: right;\n",
       "    }\n",
       "</style>\n",
       "<table border=\"1\" class=\"dataframe\">\n",
       "  <thead>\n",
       "    <tr style=\"text-align: right;\">\n",
       "      <th></th>\n",
       "      <th>comment_text</th>\n",
       "    </tr>\n",
       "    <tr>\n",
       "      <th>id</th>\n",
       "      <th></th>\n",
       "    </tr>\n",
       "  </thead>\n",
       "  <tbody>\n",
       "    <tr>\n",
       "      <th>00001cee341fdb12</th>\n",
       "      <td>yo bitch ja rule succesful ever whats hating s...</td>\n",
       "    </tr>\n",
       "    <tr>\n",
       "      <th>0000247867823ef7</th>\n",
       "      <td>rfc title fine imo</td>\n",
       "    </tr>\n",
       "    <tr>\n",
       "      <th>00013b17ad220c46</th>\n",
       "      <td>source zawe ashton lapland</td>\n",
       "    </tr>\n",
       "    <tr>\n",
       "      <th>00017563c3f7919a</th>\n",
       "      <td>look back source information updated correct f...</td>\n",
       "    </tr>\n",
       "    <tr>\n",
       "      <th>00017695ad8997eb</th>\n",
       "      <td>i anonymously edit article</td>\n",
       "    </tr>\n",
       "    <tr>\n",
       "      <th>...</th>\n",
       "      <td>...</td>\n",
       "    </tr>\n",
       "    <tr>\n",
       "      <th>fffcd0960ee309b5</th>\n",
       "      <td>totally agree stuff nothing long crap</td>\n",
       "    </tr>\n",
       "    <tr>\n",
       "      <th>fffd7a9a6eb32c16</th>\n",
       "      <td>throw field home plate get faster throwing cut...</td>\n",
       "    </tr>\n",
       "    <tr>\n",
       "      <th>fffda9e8d6fafa9e</th>\n",
       "      <td>okinotorishima category see change agree corre...</td>\n",
       "    </tr>\n",
       "    <tr>\n",
       "      <th>fffe8f1340a79fc2</th>\n",
       "      <td>one founding nation eu germany law return quit...</td>\n",
       "    </tr>\n",
       "    <tr>\n",
       "      <th>ffffce3fb183ee80</th>\n",
       "      <td>stop already bullshit welcome fool think kind ...</td>\n",
       "    </tr>\n",
       "  </tbody>\n",
       "</table>\n",
       "<p>153164 rows × 1 columns</p>\n",
       "</div>"
      ],
      "text/plain": [
       "                                                       comment_text\n",
       "id                                                                 \n",
       "00001cee341fdb12  yo bitch ja rule succesful ever whats hating s...\n",
       "0000247867823ef7                                 rfc title fine imo\n",
       "00013b17ad220c46                         source zawe ashton lapland\n",
       "00017563c3f7919a  look back source information updated correct f...\n",
       "00017695ad8997eb                         i anonymously edit article\n",
       "...                                                             ...\n",
       "fffcd0960ee309b5              totally agree stuff nothing long crap\n",
       "fffd7a9a6eb32c16  throw field home plate get faster throwing cut...\n",
       "fffda9e8d6fafa9e  okinotorishima category see change agree corre...\n",
       "fffe8f1340a79fc2  one founding nation eu germany law return quit...\n",
       "ffffce3fb183ee80  stop already bullshit welcome fool think kind ...\n",
       "\n",
       "[153164 rows x 1 columns]"
      ]
     },
     "execution_count": 54,
     "metadata": {},
     "output_type": "execute_result"
    }
   ],
   "source": [
    "test_df = test_df.apply(prep_lower_sent)\n",
    "test_df = test_df.apply(prep_abbreviations_removal)\n",
    "test_df = test_df.apply(prep_punctuation_removal)\n",
    "test_df = test_df.apply(prep_numbers_removal)\n",
    "test_df = test_df.apply(prep_stopwords_removal)\n",
    "test_df = test_df.apply(prep_lemmatization)\n",
    "test_df = test_df.apply(prep_remove_spaces)\n",
    "test_df"
   ]
  },
  {
   "cell_type": "markdown",
   "id": "712a4a51",
   "metadata": {},
   "source": [
    "Now we're going to save the preprocessed training and test set and use these for the feature selection process."
   ]
  },
  {
   "cell_type": "code",
   "execution_count": 55,
   "id": "3fe9d234",
   "metadata": {},
   "outputs": [],
   "source": [
    "train_df.to_pickle(path='data/training_set', compression='infer')\n",
    "test_df.to_pickle(path='data/test_set', compression='infer')"
   ]
  },
  {
   "cell_type": "markdown",
   "id": "27cccf59",
   "metadata": {},
   "source": [
    "## Feature Selection"
   ]
  },
  {
   "cell_type": "markdown",
   "id": "1061a671",
   "metadata": {},
   "source": [
    "In feature selection, what we want to do is extract numerical features from the available data. The nature of the data on which we have to rely on for prediction is textual, hence we want to go either with:\n",
    "* word counts, or similar, such as tf-idf.\n",
    "* badword counts\n",
    "* word embeddings, which encapsulate the meaning of the words in dense word vectors. In this case, we're not planning on learning word embeddings from the training set we have since it is rather a small collection of data. Instead we'll be using some representations that were previously built on large corpora of text."
   ]
  },
  {
   "cell_type": "code",
   "execution_count": 56,
   "id": "65000fce",
   "metadata": {},
   "outputs": [],
   "source": [
    "import pandas as pd\n",
    "import numpy as np"
   ]
  },
  {
   "cell_type": "markdown",
   "id": "5b16cbf8",
   "metadata": {},
   "source": [
    "First thing we're going to do is load the data and split into train_X, train_y, val_X, val_y and test_X. We don't have availability on test_y."
   ]
  },
  {
   "cell_type": "code",
   "execution_count": 57,
   "id": "94c463ad",
   "metadata": {},
   "outputs": [
    {
     "data": {
      "text/html": [
       "<div>\n",
       "<style scoped>\n",
       "    .dataframe tbody tr th:only-of-type {\n",
       "        vertical-align: middle;\n",
       "    }\n",
       "\n",
       "    .dataframe tbody tr th {\n",
       "        vertical-align: top;\n",
       "    }\n",
       "\n",
       "    .dataframe thead th {\n",
       "        text-align: right;\n",
       "    }\n",
       "</style>\n",
       "<table border=\"1\" class=\"dataframe\">\n",
       "  <thead>\n",
       "    <tr style=\"text-align: right;\">\n",
       "      <th></th>\n",
       "      <th>comment_text</th>\n",
       "      <th>toxic</th>\n",
       "      <th>severe_toxic</th>\n",
       "      <th>obscene</th>\n",
       "      <th>threat</th>\n",
       "      <th>insult</th>\n",
       "      <th>identity_hate</th>\n",
       "      <th>neutral</th>\n",
       "    </tr>\n",
       "    <tr>\n",
       "      <th>id</th>\n",
       "      <th></th>\n",
       "      <th></th>\n",
       "      <th></th>\n",
       "      <th></th>\n",
       "      <th></th>\n",
       "      <th></th>\n",
       "      <th></th>\n",
       "      <th></th>\n",
       "    </tr>\n",
       "  </thead>\n",
       "  <tbody>\n",
       "    <tr>\n",
       "      <th>0000997932d777bf</th>\n",
       "      <td>explanation edits made username hardcore metal...</td>\n",
       "      <td>0</td>\n",
       "      <td>0</td>\n",
       "      <td>0</td>\n",
       "      <td>0</td>\n",
       "      <td>0</td>\n",
       "      <td>0</td>\n",
       "      <td>1</td>\n",
       "    </tr>\n",
       "    <tr>\n",
       "      <th>000103f0d9cfb60f</th>\n",
       "      <td>d'aww! match background colour seemingly stuck...</td>\n",
       "      <td>0</td>\n",
       "      <td>0</td>\n",
       "      <td>0</td>\n",
       "      <td>0</td>\n",
       "      <td>0</td>\n",
       "      <td>0</td>\n",
       "      <td>1</td>\n",
       "    </tr>\n",
       "    <tr>\n",
       "      <th>000113f07ec002fd</th>\n",
       "      <td>hey man really trying edit war guy constantly ...</td>\n",
       "      <td>0</td>\n",
       "      <td>0</td>\n",
       "      <td>0</td>\n",
       "      <td>0</td>\n",
       "      <td>0</td>\n",
       "      <td>0</td>\n",
       "      <td>1</td>\n",
       "    </tr>\n",
       "    <tr>\n",
       "      <th>0001b41b1c6bb37e</th>\n",
       "      <td>make real suggestion improvement wondered sect...</td>\n",
       "      <td>0</td>\n",
       "      <td>0</td>\n",
       "      <td>0</td>\n",
       "      <td>0</td>\n",
       "      <td>0</td>\n",
       "      <td>0</td>\n",
       "      <td>1</td>\n",
       "    </tr>\n",
       "    <tr>\n",
       "      <th>0001d958c54c6e35</th>\n",
       "      <td>you sir hero chance remember page on?</td>\n",
       "      <td>0</td>\n",
       "      <td>0</td>\n",
       "      <td>0</td>\n",
       "      <td>0</td>\n",
       "      <td>0</td>\n",
       "      <td>0</td>\n",
       "      <td>1</td>\n",
       "    </tr>\n",
       "  </tbody>\n",
       "</table>\n",
       "</div>"
      ],
      "text/plain": [
       "                                                       comment_text  toxic  \\\n",
       "id                                                                           \n",
       "0000997932d777bf  explanation edits made username hardcore metal...      0   \n",
       "000103f0d9cfb60f  d'aww! match background colour seemingly stuck...      0   \n",
       "000113f07ec002fd  hey man really trying edit war guy constantly ...      0   \n",
       "0001b41b1c6bb37e  make real suggestion improvement wondered sect...      0   \n",
       "0001d958c54c6e35              you sir hero chance remember page on?      0   \n",
       "\n",
       "                  severe_toxic  obscene  threat  insult  identity_hate  \\\n",
       "id                                                                       \n",
       "0000997932d777bf             0        0       0       0              0   \n",
       "000103f0d9cfb60f             0        0       0       0              0   \n",
       "000113f07ec002fd             0        0       0       0              0   \n",
       "0001b41b1c6bb37e             0        0       0       0              0   \n",
       "0001d958c54c6e35             0        0       0       0              0   \n",
       "\n",
       "                  neutral  \n",
       "id                         \n",
       "0000997932d777bf        1  \n",
       "000103f0d9cfb60f        1  \n",
       "000113f07ec002fd        1  \n",
       "0001b41b1c6bb37e        1  \n",
       "0001d958c54c6e35        1  "
      ]
     },
     "execution_count": 57,
     "metadata": {},
     "output_type": "execute_result"
    }
   ],
   "source": [
    "train_df = pd.read_pickle('data/training_set')\n",
    "train_df.head()"
   ]
  },
  {
   "cell_type": "code",
   "execution_count": 58,
   "id": "f90c88ae",
   "metadata": {},
   "outputs": [
    {
     "data": {
      "text/html": [
       "<div>\n",
       "<style scoped>\n",
       "    .dataframe tbody tr th:only-of-type {\n",
       "        vertical-align: middle;\n",
       "    }\n",
       "\n",
       "    .dataframe tbody tr th {\n",
       "        vertical-align: top;\n",
       "    }\n",
       "\n",
       "    .dataframe thead th {\n",
       "        text-align: right;\n",
       "    }\n",
       "</style>\n",
       "<table border=\"1\" class=\"dataframe\">\n",
       "  <thead>\n",
       "    <tr style=\"text-align: right;\">\n",
       "      <th></th>\n",
       "      <th>comment_text</th>\n",
       "    </tr>\n",
       "    <tr>\n",
       "      <th>id</th>\n",
       "      <th></th>\n",
       "    </tr>\n",
       "  </thead>\n",
       "  <tbody>\n",
       "    <tr>\n",
       "      <th>00001cee341fdb12</th>\n",
       "      <td>yo bitch ja rule succesful ever whats hating s...</td>\n",
       "    </tr>\n",
       "    <tr>\n",
       "      <th>0000247867823ef7</th>\n",
       "      <td>rfc title fine imo</td>\n",
       "    </tr>\n",
       "    <tr>\n",
       "      <th>00013b17ad220c46</th>\n",
       "      <td>source zawe ashton lapland</td>\n",
       "    </tr>\n",
       "    <tr>\n",
       "      <th>00017563c3f7919a</th>\n",
       "      <td>look back source information updated correct f...</td>\n",
       "    </tr>\n",
       "    <tr>\n",
       "      <th>00017695ad8997eb</th>\n",
       "      <td>i anonymously edit article</td>\n",
       "    </tr>\n",
       "  </tbody>\n",
       "</table>\n",
       "</div>"
      ],
      "text/plain": [
       "                                                       comment_text\n",
       "id                                                                 \n",
       "00001cee341fdb12  yo bitch ja rule succesful ever whats hating s...\n",
       "0000247867823ef7                                 rfc title fine imo\n",
       "00013b17ad220c46                         source zawe ashton lapland\n",
       "00017563c3f7919a  look back source information updated correct f...\n",
       "00017695ad8997eb                         i anonymously edit article"
      ]
     },
     "execution_count": 58,
     "metadata": {},
     "output_type": "execute_result"
    }
   ],
   "source": [
    "test_df = pd.read_pickle('data/test_set')\n",
    "test_df.head()"
   ]
  },
  {
   "cell_type": "code",
   "execution_count": 59,
   "id": "faa21f79",
   "metadata": {},
   "outputs": [
    {
     "name": "stdout",
     "output_type": "stream",
     "text": [
      "train_X.shape: (111699,)\n",
      "train_y.shape: (111699, 6) \n",
      "\n",
      "val_X.shape: (47872,)\n",
      "val_y.shape: (47872, 6) \n",
      "\n",
      "test_X.shape: (153164,)\n"
     ]
    }
   ],
   "source": [
    "from sklearn.model_selection import train_test_split\n",
    "\n",
    "X = train_df['comment_text'].values\n",
    "y = train_df.drop(columns=['comment_text', 'neutral']).values\n",
    "\n",
    "train_X, val_X, train_y, val_y = train_test_split(X, y, test_size=0.3, random_state=0, shuffle=True)\n",
    "test_X = test_df['comment_text'].values\n",
    "\n",
    "print('train_X.shape:', train_X.shape)\n",
    "print('train_y.shape:', train_y.shape, '\\n')\n",
    "\n",
    "print('val_X.shape:', val_X.shape)\n",
    "print('val_y.shape:', val_y.shape, '\\n')\n",
    "\n",
    "print('test_X.shape:', test_X.shape)"
   ]
  },
  {
   "cell_type": "code",
   "execution_count": 60,
   "id": "c17267a0",
   "metadata": {},
   "outputs": [
    {
     "name": "stdout",
     "output_type": "stream",
     "text": [
      "<class 'numpy.ndarray'>\n"
     ]
    }
   ],
   "source": [
    "print(type(train_X))"
   ]
  },
  {
   "cell_type": "markdown",
   "id": "e1cb2a92",
   "metadata": {},
   "source": [
    "### Word counts"
   ]
  },
  {
   "cell_type": "code",
   "execution_count": 61,
   "id": "0e121a51",
   "metadata": {},
   "outputs": [
    {
     "name": "stdout",
     "output_type": "stream",
     "text": [
      "amount of extracted features: 10000\n"
     ]
    }
   ],
   "source": [
    "from sklearn.feature_extraction.text import CountVectorizer\n",
    "vectorizer = CountVectorizer(\n",
    "    analyzer = 'word', \n",
    "    max_features = 10000\n",
    ")\n",
    "\n",
    "train_X_counts = vectorizer.fit_transform(train_X)\n",
    "val_X_counts = vectorizer.transform(val_X)\n",
    "test_X_counts = vectorizer.transform(test_X)\n",
    "\n",
    "print('amount of extracted features:', train_X_counts.shape[1])"
   ]
  },
  {
   "cell_type": "code",
   "execution_count": 62,
   "id": "f0eb7324",
   "metadata": {},
   "outputs": [
    {
     "name": "stdout",
     "output_type": "stream",
     "text": [
      "<class 'scipy.sparse.csr.csr_matrix'>\n",
      "(111699, 10000)\n"
     ]
    }
   ],
   "source": [
    "print(type(train_X_counts))\n",
    "print(train_X_counts.shape)"
   ]
  },
  {
   "cell_type": "markdown",
   "id": "eda7d64e",
   "metadata": {},
   "source": [
    "We're applying here the one-vs-all technique for each label, since this is a multilabel classification task."
   ]
  },
  {
   "cell_type": "code",
   "execution_count": 63,
   "id": "1de05cb0",
   "metadata": {},
   "outputs": [
    {
     "name": "stdout",
     "output_type": "stream",
     "text": [
      "Fitting 5 folds for each of 1 candidates, totalling 5 fits\n"
     ]
    },
    {
     "name": "stderr",
     "output_type": "stream",
     "text": [
      "[Parallel(n_jobs=2)]: Using backend LokyBackend with 2 concurrent workers.\n",
      "[Parallel(n_jobs=2)]: Done   5 out of   5 | elapsed:  2.4min finished\n",
      "/home/one/anaconda3/lib/python3.7/site-packages/sklearn/svm/_base.py:977: ConvergenceWarning: Liblinear failed to converge, increase the number of iterations.\n",
      "  \"the number of iterations.\", ConvergenceWarning)\n"
     ]
    },
    {
     "name": "stdout",
     "output_type": "stream",
     "text": [
      "best parameters: \n",
      " {'estimator__C': 9}\n"
     ]
    },
    {
     "data": {
      "text/plain": [
       "(47872, 6)"
      ]
     },
     "execution_count": 63,
     "metadata": {},
     "output_type": "execute_result"
    }
   ],
   "source": [
    "from sklearn.multiclass import OneVsRestClassifier\n",
    "from sklearn.model_selection import GridSearchCV\n",
    "from sklearn.linear_model import LogisticRegression\n",
    "\n",
    "logreg_model = OneVsRestClassifier(\n",
    "    LogisticRegression(\n",
    "        solver='liblinear', \n",
    "        class_weight='balanced', \n",
    "        random_state=0\n",
    "    )\n",
    ")\n",
    "\n",
    "parameters = {\n",
    "#    'estimator__penalty': ('l1', 'l2'), \n",
    "#    'estimator__C': [3, 9, 12, 21, 33, 54]\n",
    "    'estimator__C': [9]\n",
    "}\n",
    "\n",
    "clf = GridSearchCV(logreg_model, param_grid=parameters, n_jobs=2, verbose=True)\n",
    "clf.fit(train_X_counts, train_y)\n",
    "print(f'best parameters: \\n {clf.best_params_}')\n",
    "\n",
    "best_logreg_model = clf.best_estimator_\n",
    "logreg_pred = best_logreg_model.predict(val_X_counts)\n",
    "\n",
    "logreg_pred.shape"
   ]
  },
  {
   "cell_type": "code",
   "execution_count": 64,
   "id": "3c8833f4",
   "metadata": {},
   "outputs": [
    {
     "name": "stdout",
     "output_type": "stream",
     "text": [
      "Feature = toxic, Accuracy = 0.93253, Precision = 0.606, Recall = 0.846, F1-score = 0.706\n",
      "Confusion Matrix is:\n",
      "[[40757  2524]\n",
      " [  706  3885]] \n",
      "\n",
      "Feature = severe_toxic, Accuracy = 0.96913, Precision = 0.229, Recall = 0.868, F1-score = 0.363\n",
      "Confusion Matrix is:\n",
      "[[45973  1414]\n",
      " [   64   421]] \n",
      "\n",
      "Feature = obscene, Accuracy = 0.96075, Precision = 0.588, Recall = 0.858, F1-score = 0.698\n",
      "Confusion Matrix is:\n",
      "[[43825  1520]\n",
      " [  359  2168]] \n",
      "\n",
      "Feature = threat, Accuracy = 0.98425, Precision = 0.125, Recall = 0.794, F1-score = 0.216\n",
      "Confusion Matrix is:\n",
      "[[47014   727]\n",
      " [   27   104]] \n",
      "\n",
      "Feature = insult, Accuracy = 0.93919, Precision = 0.44, Recall = 0.845, F1-score = 0.578\n",
      "Confusion Matrix is:\n",
      "[[42965  2545]\n",
      " [  366  1996]] \n",
      "\n",
      "Feature = identity_hate, Accuracy = 0.95613, Precision = 0.141, Recall = 0.765, F1-score = 0.239\n",
      "Confusion Matrix is:\n",
      "[[45443  1999]\n",
      " [  101   329]] \n",
      "\n"
     ]
    }
   ],
   "source": [
    "from sklearn.metrics import confusion_matrix\n",
    "from sklearn.metrics import accuracy_score as accuracy\n",
    "from sklearn.metrics import recall_score as recall\n",
    "from sklearn.metrics import precision_score as precision\n",
    "from sklearn.metrics import f1_score\n",
    "\n",
    "feature_columns = train_df.columns[1:-1]\n",
    "\n",
    "def get_metrics(features, y_true, y_pred):\n",
    "    for i, feature in enumerate(features): \n",
    "        acc   = accuracy(y_true[:,i], y_pred[:,i]) \n",
    "        cmlog = confusion_matrix(y_true[:,i], y_pred[:,i])\n",
    "        rec   = recall(y_true[:,i], y_pred[:,i])\n",
    "        prec  = precision(y_true[:,i], y_pred[:,i])\n",
    "        f1    = f1_score(y_true[:,i], y_pred[:,i])\n",
    "\n",
    "        print(f'Feature = {feature}, Accuracy = {np.round(acc,5)}, Precision = {np.round(prec,3)}, Recall = {np.round(rec,3)}, F1-score = {np.round(f1,3)}')\n",
    "        print('Confusion Matrix is:')\n",
    "        print(cmlog, '\\n')\n",
    "\n",
    "get_metrics(feature_columns, val_y, logreg_pred)"
   ]
  },
  {
   "cell_type": "code",
   "execution_count": null,
   "id": "b775426b",
   "metadata": {},
   "outputs": [],
   "source": []
  },
  {
   "cell_type": "code",
   "execution_count": null,
   "id": "c00adfbd",
   "metadata": {},
   "outputs": [],
   "source": []
  },
  {
   "cell_type": "code",
   "execution_count": null,
   "id": "f3bbb7ab",
   "metadata": {},
   "outputs": [],
   "source": [
    "from sklearn.feature_extraction.text import TfidfVectorizer\n",
    "vectorizer = TfidfVectorizer(\n",
    "    analyzer = 'word', \n",
    "    max_features = 10000\n",
    ")\n",
    "\n",
    "train_X_tfidf = vectorizer.fit_transform(train_X)\n",
    "val_X_tfidf = vectorizer.transform(val_X)\n",
    "test_X_tfidf = vectorizer.transform(test_X)\n",
    "\n",
    "print('amount of extracted features:', train_X_tfidf.shape[1])"
   ]
  },
  {
   "cell_type": "code",
   "execution_count": 17,
   "id": "295d3079",
   "metadata": {},
   "outputs": [],
   "source": [
    "from sklearn.ensemble import GradientBoostingClassifier, RandomForestClassifier\n",
    "\n",
    "randomforest = OneVsRestClassifier(\n",
    "    RandomForestClassifier(\n",
    "        class_weight='balanced',\n",
    "        max_depth=10,\n",
    "        random_state=0\n",
    "    )\n",
    ")\n"
   ]
  },
  {
   "cell_type": "code",
   "execution_count": 18,
   "id": "e8ea3c63",
   "metadata": {
    "scrolled": true
   },
   "outputs": [
    {
     "data": {
      "text/plain": [
       "OneVsRestClassifier(estimator=RandomForestClassifier(class_weight='balanced',\n",
       "                                                     max_depth=10,\n",
       "                                                     random_state=0))"
      ]
     },
     "execution_count": 18,
     "metadata": {},
     "output_type": "execute_result"
    }
   ],
   "source": [
    "randomforest.fit(train_X_tfidf, train_y)"
   ]
  },
  {
   "cell_type": "code",
   "execution_count": 19,
   "id": "b61b9829",
   "metadata": {},
   "outputs": [
    {
     "name": "stdout",
     "output_type": "stream",
     "text": [
      "Feature = toxic, Accuracy = 0.80646, Precision = 0.309, Recall = 0.821, F1-score = 0.448\n",
      "Confusion Matrix is:\n",
      "[[34840  8441]\n",
      " [  824  3767]] \n",
      "\n",
      "Feature = severe_toxic, Accuracy = 0.94753, Precision = 0.15, Recall = 0.895, F1-score = 0.257\n",
      "Confusion Matrix is:\n",
      "[[44926  2461]\n",
      " [   51   434]] \n",
      "\n",
      "Feature = obscene, Accuracy = 0.94199, Precision = 0.472, Recall = 0.822, F1-score = 0.599\n",
      "Confusion Matrix is:\n",
      "[[43018  2327]\n",
      " [  450  2077]] \n",
      "\n",
      "Feature = threat, Accuracy = 0.94851, Precision = 0.04, Recall = 0.771, F1-score = 0.076\n",
      "Confusion Matrix is:\n",
      "[[45306  2435]\n",
      " [   30   101]] \n",
      "\n",
      "Feature = insult, Accuracy = 0.85217, Precision = 0.228, Recall = 0.839, F1-score = 0.359\n",
      "Confusion Matrix is:\n",
      "[[38814  6696]\n",
      " [  381  1981]] \n",
      "\n",
      "Feature = identity_hate, Accuracy = 0.94047, Precision = 0.108, Recall = 0.774, F1-score = 0.189\n",
      "Confusion Matrix is:\n",
      "[[44689  2753]\n",
      " [   97   333]] \n",
      "\n"
     ]
    }
   ],
   "source": [
    "randomforest_pred = randomforest.predict(val_X_tfidf)\n",
    "get_metrics(feature_columns, val_y, randomforest_pred)"
   ]
  },
  {
   "cell_type": "code",
   "execution_count": null,
   "id": "836302ab",
   "metadata": {},
   "outputs": [],
   "source": []
  },
  {
   "cell_type": "code",
   "execution_count": null,
   "id": "03740bda",
   "metadata": {},
   "outputs": [],
   "source": []
  },
  {
   "cell_type": "code",
   "execution_count": null,
   "id": "9ee10736",
   "metadata": {},
   "outputs": [],
   "source": []
  },
  {
   "cell_type": "code",
   "execution_count": null,
   "id": "04171659",
   "metadata": {},
   "outputs": [],
   "source": []
  },
  {
   "cell_type": "code",
   "execution_count": null,
   "id": "37e4826c",
   "metadata": {},
   "outputs": [],
   "source": []
  },
  {
   "cell_type": "code",
   "execution_count": null,
   "id": "f5c181ce",
   "metadata": {},
   "outputs": [],
   "source": []
  },
  {
   "cell_type": "code",
   "execution_count": 77,
   "id": "91890b85",
   "metadata": {},
   "outputs": [],
   "source": []
  },
  {
   "cell_type": "code",
   "execution_count": 200,
   "id": "07eb692d",
   "metadata": {},
   "outputs": [
    {
     "name": "stdout",
     "output_type": "stream",
     "text": [
      "\n",
      "# -stopwords:\t 5780312\n"
     ]
    }
   ],
   "source": [
    "polished = [word for word in tokens if word not in stop_words]   # stopwords removal\n",
    "print('\\n# -stopwords:\\t', len(polished))"
   ]
  },
  {
   "cell_type": "code",
   "execution_count": 201,
   "id": "d5e32527",
   "metadata": {},
   "outputs": [
    {
     "name": "stdout",
     "output_type": "stream",
     "text": [
      "\n",
      "# lemmas:\t 5780312\n"
     ]
    }
   ],
   "source": [
    "lemmas = [lemmatizer.lemmatize(word) for word in polished]      # lemmatization\n",
    "print('\\n# lemmas:\\t', len(lemmas))"
   ]
  },
  {
   "cell_type": "code",
   "execution_count": 202,
   "id": "f6577011",
   "metadata": {},
   "outputs": [
    {
     "name": "stdout",
     "output_type": "stream",
     "text": [
      "  ----->>>>>  UNIQUE WORDS  <<<<<-----  \n",
      "\n",
      "before stopwords removal:  183833\n",
      "after stopwords removal:   183682\n",
      "after lemmas extraction:   173749\n"
     ]
    }
   ],
   "source": [
    "unique_from_tokens = list(set(tokens))\n",
    "unique_polished = list(set(polished))\n",
    "unique_from_lemmas = list(set(lemmas))\n",
    "\n",
    "print('  ----->>>>>  UNIQUE WORDS  <<<<<-----  \\n')\n",
    "print('before stopwords removal: ', len(unique_from_tokens))\n",
    "print('after stopwords removal:  ', len(unique_polished))\n",
    "print('after lemmas extraction:  ', len(unique_from_lemmas))"
   ]
  },
  {
   "cell_type": "code",
   "execution_count": 203,
   "id": "3094e818",
   "metadata": {},
   "outputs": [
    {
     "name": "stdout",
     "output_type": "stream",
     "text": [
      "173749\n"
     ]
    },
    {
     "data": {
      "text/html": [
       "<div>\n",
       "<style scoped>\n",
       "    .dataframe tbody tr th:only-of-type {\n",
       "        vertical-align: middle;\n",
       "    }\n",
       "\n",
       "    .dataframe tbody tr th {\n",
       "        vertical-align: top;\n",
       "    }\n",
       "\n",
       "    .dataframe thead th {\n",
       "        text-align: right;\n",
       "    }\n",
       "</style>\n",
       "<table border=\"1\" class=\"dataframe\">\n",
       "  <thead>\n",
       "    <tr style=\"text-align: right;\">\n",
       "      <th></th>\n",
       "      <th>freq</th>\n",
       "    </tr>\n",
       "  </thead>\n",
       "  <tbody>\n",
       "    <tr>\n",
       "      <th>count</th>\n",
       "      <td>173749.000000</td>\n",
       "    </tr>\n",
       "    <tr>\n",
       "      <th>mean</th>\n",
       "      <td>33.268174</td>\n",
       "    </tr>\n",
       "    <tr>\n",
       "      <th>std</th>\n",
       "      <td>550.488038</td>\n",
       "    </tr>\n",
       "    <tr>\n",
       "      <th>min</th>\n",
       "      <td>1.000000</td>\n",
       "    </tr>\n",
       "    <tr>\n",
       "      <th>25%</th>\n",
       "      <td>1.000000</td>\n",
       "    </tr>\n",
       "    <tr>\n",
       "      <th>50%</th>\n",
       "      <td>1.000000</td>\n",
       "    </tr>\n",
       "    <tr>\n",
       "      <th>75%</th>\n",
       "      <td>4.000000</td>\n",
       "    </tr>\n",
       "    <tr>\n",
       "      <th>max</th>\n",
       "      <td>105576.000000</td>\n",
       "    </tr>\n",
       "  </tbody>\n",
       "</table>\n",
       "</div>"
      ],
      "text/plain": [
       "                freq\n",
       "count  173749.000000\n",
       "mean       33.268174\n",
       "std       550.488038\n",
       "min         1.000000\n",
       "25%         1.000000\n",
       "50%         1.000000\n",
       "75%         4.000000\n",
       "max    105576.000000"
      ]
     },
     "execution_count": 203,
     "metadata": {},
     "output_type": "execute_result"
    }
   ],
   "source": [
    "frequencies = dict()\n",
    "for lemma in lemmas:\n",
    "    if lemma not in frequencies.keys():\n",
    "        frequencies[lemma] = 0\n",
    "    frequencies[lemma] += 1\n",
    "    \n",
    "freq_df = pd.DataFrame.from_dict(frequencies, orient='index', columns=['freq'])\n",
    "freq_df = freq_df.sort_values(by='freq', axis=0, ascending=False)\n",
    "\n",
    "\n",
    "print(len(freq_df))\n",
    "freq_df.describe()"
   ]
  },
  {
   "cell_type": "code",
   "execution_count": 204,
   "id": "620e39e8",
   "metadata": {},
   "outputs": [
    {
     "data": {
      "text/html": [
       "<div>\n",
       "<style scoped>\n",
       "    .dataframe tbody tr th:only-of-type {\n",
       "        vertical-align: middle;\n",
       "    }\n",
       "\n",
       "    .dataframe tbody tr th {\n",
       "        vertical-align: top;\n",
       "    }\n",
       "\n",
       "    .dataframe thead th {\n",
       "        text-align: right;\n",
       "    }\n",
       "</style>\n",
       "<table border=\"1\" class=\"dataframe\">\n",
       "  <thead>\n",
       "    <tr style=\"text-align: right;\">\n",
       "      <th></th>\n",
       "      <th>freq</th>\n",
       "    </tr>\n",
       "  </thead>\n",
       "  <tbody>\n",
       "    <tr>\n",
       "      <th>!</th>\n",
       "      <td>105576</td>\n",
       "    </tr>\n",
       "    <tr>\n",
       "      <th>article</th>\n",
       "      <td>74369</td>\n",
       "    </tr>\n",
       "    <tr>\n",
       "      <th>?</th>\n",
       "      <td>71692</td>\n",
       "    </tr>\n",
       "    <tr>\n",
       "      <th>page</th>\n",
       "      <td>57203</td>\n",
       "    </tr>\n",
       "    <tr>\n",
       "      <th>wikipedia</th>\n",
       "      <td>48428</td>\n",
       "    </tr>\n",
       "    <tr>\n",
       "      <th>talk</th>\n",
       "      <td>37083</td>\n",
       "    </tr>\n",
       "    <tr>\n",
       "      <th>would</th>\n",
       "      <td>36213</td>\n",
       "    </tr>\n",
       "    <tr>\n",
       "      <th>one</th>\n",
       "      <td>30701</td>\n",
       "    </tr>\n",
       "    <tr>\n",
       "      <th>please</th>\n",
       "      <td>29786</td>\n",
       "    </tr>\n",
       "    <tr>\n",
       "      <th>like</th>\n",
       "      <td>28425</td>\n",
       "    </tr>\n",
       "    <tr>\n",
       "      <th>well</th>\n",
       "      <td>24416</td>\n",
       "    </tr>\n",
       "    <tr>\n",
       "      <th>see</th>\n",
       "      <td>21780</td>\n",
       "    </tr>\n",
       "    <tr>\n",
       "      <th>source</th>\n",
       "      <td>21763</td>\n",
       "    </tr>\n",
       "    <tr>\n",
       "      <th>think</th>\n",
       "      <td>20758</td>\n",
       "    </tr>\n",
       "    <tr>\n",
       "      <th>also</th>\n",
       "      <td>20639</td>\n",
       "    </tr>\n",
       "    <tr>\n",
       "      <th>know</th>\n",
       "      <td>20132</td>\n",
       "    </tr>\n",
       "    <tr>\n",
       "      <th>time</th>\n",
       "      <td>19252</td>\n",
       "    </tr>\n",
       "    <tr>\n",
       "      <th>people</th>\n",
       "      <td>18917</td>\n",
       "    </tr>\n",
       "    <tr>\n",
       "      <th>edit</th>\n",
       "      <td>18272</td>\n",
       "    </tr>\n",
       "    <tr>\n",
       "      <th>'</th>\n",
       "      <td>17993</td>\n",
       "    </tr>\n",
       "    <tr>\n",
       "      <th>user</th>\n",
       "      <td>17962</td>\n",
       "    </tr>\n",
       "    <tr>\n",
       "      <th>use</th>\n",
       "      <td>16591</td>\n",
       "    </tr>\n",
       "    <tr>\n",
       "      <th>make</th>\n",
       "      <td>16227</td>\n",
       "    </tr>\n",
       "    <tr>\n",
       "      <th>may</th>\n",
       "      <td>15617</td>\n",
       "    </tr>\n",
       "    <tr>\n",
       "      <th>get</th>\n",
       "      <td>14661</td>\n",
       "    </tr>\n",
       "    <tr>\n",
       "      <th>image</th>\n",
       "      <td>14427</td>\n",
       "    </tr>\n",
       "    <tr>\n",
       "      <th>say</th>\n",
       "      <td>14417</td>\n",
       "    </tr>\n",
       "    <tr>\n",
       "      <th>need</th>\n",
       "      <td>13919</td>\n",
       "    </tr>\n",
       "    <tr>\n",
       "      <th>thanks</th>\n",
       "      <td>13912</td>\n",
       "    </tr>\n",
       "    <tr>\n",
       "      <th>name</th>\n",
       "      <td>13554</td>\n",
       "    </tr>\n",
       "    <tr>\n",
       "      <th>link</th>\n",
       "      <td>13482</td>\n",
       "    </tr>\n",
       "    <tr>\n",
       "      <th>even</th>\n",
       "      <td>13467</td>\n",
       "    </tr>\n",
       "    <tr>\n",
       "      <th>good</th>\n",
       "      <td>12846</td>\n",
       "    </tr>\n",
       "    <tr>\n",
       "      <th>could</th>\n",
       "      <td>12822</td>\n",
       "    </tr>\n",
       "    <tr>\n",
       "      <th>want</th>\n",
       "      <td>12709</td>\n",
       "    </tr>\n",
       "    <tr>\n",
       "      <th>information</th>\n",
       "      <td>12245</td>\n",
       "    </tr>\n",
       "    <tr>\n",
       "      <th>way</th>\n",
       "      <td>12174</td>\n",
       "    </tr>\n",
       "    <tr>\n",
       "      <th>comment</th>\n",
       "      <td>11850</td>\n",
       "    </tr>\n",
       "    <tr>\n",
       "      <th>go</th>\n",
       "      <td>11824</td>\n",
       "    </tr>\n",
       "    <tr>\n",
       "      <th>played</th>\n",
       "      <td>11807</td>\n",
       "    </tr>\n",
       "    <tr>\n",
       "      <th>editor</th>\n",
       "      <td>11767</td>\n",
       "    </tr>\n",
       "    <tr>\n",
       "      <th>deletion</th>\n",
       "      <td>11730</td>\n",
       "    </tr>\n",
       "    <tr>\n",
       "      <th>section</th>\n",
       "      <td>11597</td>\n",
       "    </tr>\n",
       "    <tr>\n",
       "      <th>question</th>\n",
       "      <td>11316</td>\n",
       "    </tr>\n",
       "    <tr>\n",
       "      <th>help</th>\n",
       "      <td>11299</td>\n",
       "    </tr>\n",
       "    <tr>\n",
       "      <th>thing</th>\n",
       "      <td>11137</td>\n",
       "    </tr>\n",
       "    <tr>\n",
       "      <th>first</th>\n",
       "      <td>10980</td>\n",
       "    </tr>\n",
       "    <tr>\n",
       "      <th>fact</th>\n",
       "      <td>10810</td>\n",
       "    </tr>\n",
       "    <tr>\n",
       "      <th>new</th>\n",
       "      <td>10657</td>\n",
       "    </tr>\n",
       "    <tr>\n",
       "      <th>look</th>\n",
       "      <td>10413</td>\n",
       "    </tr>\n",
       "  </tbody>\n",
       "</table>\n",
       "</div>"
      ],
      "text/plain": [
       "               freq\n",
       "!            105576\n",
       "article       74369\n",
       "?             71692\n",
       "page          57203\n",
       "wikipedia     48428\n",
       "talk          37083\n",
       "would         36213\n",
       "one           30701\n",
       "please        29786\n",
       "like          28425\n",
       "well          24416\n",
       "see           21780\n",
       "source        21763\n",
       "think         20758\n",
       "also          20639\n",
       "know          20132\n",
       "time          19252\n",
       "people        18917\n",
       "edit          18272\n",
       "'             17993\n",
       "user          17962\n",
       "use           16591\n",
       "make          16227\n",
       "may           15617\n",
       "get           14661\n",
       "image         14427\n",
       "say           14417\n",
       "need          13919\n",
       "thanks        13912\n",
       "name          13554\n",
       "link          13482\n",
       "even          13467\n",
       "good          12846\n",
       "could         12822\n",
       "want          12709\n",
       "information   12245\n",
       "way           12174\n",
       "comment       11850\n",
       "go            11824\n",
       "played        11807\n",
       "editor        11767\n",
       "deletion      11730\n",
       "section       11597\n",
       "question      11316\n",
       "help          11299\n",
       "thing         11137\n",
       "first         10980\n",
       "fact          10810\n",
       "new           10657\n",
       "look          10413"
      ]
     },
     "execution_count": 204,
     "metadata": {},
     "output_type": "execute_result"
    }
   ],
   "source": [
    "freq_df[:50]"
   ]
  },
  {
   "cell_type": "code",
   "execution_count": null,
   "id": "d719f0ee",
   "metadata": {},
   "outputs": [],
   "source": []
  }
 ],
 "metadata": {
  "kernelspec": {
   "display_name": "Python 3",
   "language": "python",
   "name": "python3"
  },
  "language_info": {
   "codemirror_mode": {
    "name": "ipython",
    "version": 3
   },
   "file_extension": ".py",
   "mimetype": "text/x-python",
   "name": "python",
   "nbconvert_exporter": "python",
   "pygments_lexer": "ipython3",
   "version": "3.7.9"
  }
 },
 "nbformat": 4,
 "nbformat_minor": 5
}
